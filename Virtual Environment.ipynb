{
 "cells": [
  {
   "cell_type": "markdown",
   "metadata": {},
   "source": [
    "![](Virtual.jpeg)"
   ]
  },
  {
   "cell_type": "markdown",
   "metadata": {},
   "source": [
    "# WHAT IS VIRTUAL ENVIRONMENT IN PYTHON?\n",
    "Virtual Environment in the context of Python Programming will help you contain the Python packages and dependencies required for a particular project in such a way that it can avoid version conflicts with packages and dependencies used in other projects."
   ]
  },
  {
   "cell_type": "code",
   "execution_count": null,
   "metadata": {},
   "outputs": [],
   "source": [
    "conda create -n yourenvname python=x.x anaconda\n",
    "\n",
    "conda create -n visiondeep python=3.6\n",
    "\n",
    "conda info -e ---- to see all environments\n",
    "\n",
    "To activate this environment, use\n",
    "#\n",
    "#     $ conda activate visiondeep\n",
    "#\n",
    "# To deactivate an active environment, use\n",
    "#\n",
    "#     $ conda deactivate\n",
    "\n",
    "install opencv\n",
    "pip install opencv-python"
   ]
  },
  {
   "cell_type": "markdown",
   "metadata": {},
   "source": [
    "# On Windows:\n",
    "https://docs.python.org/3/library/venv.html\n",
    "https://packaging.python.org/guides/installing-using-pip-and-virtual-environments/\n"
   ]
  },
  {
   "cell_type": "code",
   "execution_count": null,
   "metadata": {},
   "outputs": [],
   "source": [
    "#install virtualenv on Windows\n",
    "\n",
    "\n",
    "\n",
    "pip install virtualenv\n",
    "# or\n",
    "py -m pip install --user virtualenv\n",
    "\n",
    "#    usage of virtualenv\n",
    "\n",
    "\n",
    "#How to create virtual environment?\n",
    "py -m venv env\n",
    "\n",
    "#or\n",
    "\n",
    "python3 -m venv /path/to/new/virtual/environment\n",
    "\n",
    "\n",
    "#Activating a virtual environment¶\n",
    "\n",
    "#On Windows, invoke the venv command as follows:\n",
    "\n",
    "c:\\>c:\\Python35\\python -m venv c:\\path\\to\\myenv\n",
    "\n",
    "\n",
    "\n",
    "#How to install a python package in virtualenv ?\n",
    "\n",
    "(venv) pip install django\n",
    "\n",
    "#How to deactivate virtual environment ?\n",
    "\n",
    "(venv) deactivate"
   ]
  }
 ],
 "metadata": {
  "kernelspec": {
   "display_name": "Python 3",
   "language": "python",
   "name": "python3"
  },
  "language_info": {
   "codemirror_mode": {
    "name": "ipython",
    "version": 3
   },
   "file_extension": ".py",
   "mimetype": "text/x-python",
   "name": "python",
   "nbconvert_exporter": "python",
   "pygments_lexer": "ipython3",
   "version": "3.7.3"
  }
 },
 "nbformat": 4,
 "nbformat_minor": 2
}
