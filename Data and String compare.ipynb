{
 "cells": [
  {
   "cell_type": "code",
   "execution_count": 3,
   "metadata": {},
   "outputs": [],
   "source": [
    "from difflib import SequenceMatcher\n",
    "\n",
    "a = \"I love Coding\"\n",
    "b = \"I love Coding\"\n",
    "\n",
    "ratio = SequenceMatcher(None, a, b).ratio()"
   ]
  },
  {
   "cell_type": "code",
   "execution_count": 4,
   "metadata": {},
   "outputs": [
    {
     "name": "stdout",
     "output_type": "stream",
     "text": [
      "1.0\n"
     ]
    }
   ],
   "source": [
    "print(ratio)"
   ]
  },
  {
   "cell_type": "code",
   "execution_count": 5,
   "metadata": {},
   "outputs": [
    {
     "name": "stdout",
     "output_type": "stream",
     "text": [
      "Same Strings\n"
     ]
    }
   ],
   "source": [
    "#String compare in Python example\n",
    " \n",
    " \n",
    " \n",
    "str_x = 'Hello & Welcome'\n",
    " \n",
    "str_y = 'Hello & Welcome'\n",
    " \n",
    " \n",
    " \n",
    "#comparing by ==\n",
    " \n",
    "if str_x == str_y:\n",
    " \n",
    "    print (\"Same Strings\")\n",
    " \n",
    "else:\n",
    " \n",
    "    print (\"Different Strings\")"
   ]
  },
  {
   "cell_type": "code",
   "execution_count": 6,
   "metadata": {},
   "outputs": [
    {
     "name": "stdout",
     "output_type": "stream",
     "text": [
      "Enter First String? Heloo this is Zeelan how are you\n",
      "Enter Second String? Heloo this is Zeelan how are you\n",
      "You entered same strings!\n"
     ]
    }
   ],
   "source": [
    "str_input1 = input(\"Enter First String? \")\n",
    " \n",
    "str_input2 = input(\"Enter Second String? \")\n",
    " \n",
    " \n",
    " \n",
    "#comparing by != (not equal to)\n",
    " \n",
    "if str_input1 != str_input2:\n",
    " \n",
    "    print (\"Both Strings are different!\")\n",
    " \n",
    "else:\n",
    " \n",
    "    print (\"You entered same strings!\")\n"
   ]
  },
  {
   "cell_type": "code",
   "execution_count": null,
   "metadata": {},
   "outputs": [],
   "source": [
    "import pandas as pd\n",
    "\n",
    "#create sample data\n",
    "data = {'model': ['Lisa', 'Lisa 2', 'Macintosh 128K', 'Macintosh 512K'],\n",
    "        'launched': [1983,1984,1984,1984],\n",
    "        'discontinued': [1986, 1985, 1984, 1986]}\n",
    "\n",
    "df = pd.DataFrame(data, columns = ['model', 'launched', 'discontinued'])\n",
    "df\n"
   ]
  },
  {
   "cell_type": "code",
   "execution_count": 8,
   "metadata": {},
   "outputs": [
    {
     "data": {
      "text/html": [
       "<div>\n",
       "<style scoped>\n",
       "    .dataframe tbody tr th:only-of-type {\n",
       "        vertical-align: middle;\n",
       "    }\n",
       "\n",
       "    .dataframe tbody tr th {\n",
       "        vertical-align: top;\n",
       "    }\n",
       "\n",
       "    .dataframe thead th {\n",
       "        text-align: right;\n",
       "    }\n",
       "</style>\n",
       "<table border=\"1\" class=\"dataframe\">\n",
       "  <thead>\n",
       "    <tr style=\"text-align: right;\">\n",
       "      <th></th>\n",
       "      <th>model</th>\n",
       "      <th>launched</th>\n",
       "      <th>discontinued</th>\n",
       "    </tr>\n",
       "  </thead>\n",
       "  <tbody>\n",
       "    <tr>\n",
       "      <th>2</th>\n",
       "      <td>Macintosh 128K</td>\n",
       "      <td>1984</td>\n",
       "      <td>1984</td>\n",
       "    </tr>\n",
       "    <tr>\n",
       "      <th>3</th>\n",
       "      <td>Macintosh 512K</td>\n",
       "      <td>1984</td>\n",
       "      <td>1986</td>\n",
       "    </tr>\n",
       "  </tbody>\n",
       "</table>\n",
       "</div>"
      ],
      "text/plain": [
       "            model  launched  discontinued\n",
       "2  Macintosh 128K      1984          1984\n",
       "3  Macintosh 512K      1984          1986"
      ]
     },
     "execution_count": 8,
     "metadata": {},
     "output_type": "execute_result"
    }
   ],
   "source": [
    "df[df['model'].str.contains('ac')]"
   ]
  },
  {
   "cell_type": "code",
   "execution_count": 9,
   "metadata": {},
   "outputs": [
    {
     "name": "stdout",
     "output_type": "stream",
     "text": [
      "     State     State_1\n",
      "0  Arizona  New Jersey\n",
      "1  Georgia     georgia\n",
      "2  Newyork     Newyork\n",
      "3  Indiana     Indiana\n",
      "4  Florida     florida\n"
     ]
    }
   ],
   "source": [
    "import pandas as pd\n",
    "import numpy as np\n",
    " \n",
    "df1 = {\n",
    "    'State':['Arizona','Georgia','Newyork','Indiana','Florida'],\n",
    "    'State_1':['New Jersey','georgia','Newyork','Indiana','florida']}\n",
    " \n",
    "df1 = pd.DataFrame(df1,columns=['State','State_1'])\n",
    "print(df1)"
   ]
  },
  {
   "cell_type": "code",
   "execution_count": 10,
   "metadata": {},
   "outputs": [
    {
     "name": "stdout",
     "output_type": "stream",
     "text": [
      "     State     State_1  is_equal\n",
      "0  Arizona  New Jersey     False\n",
      "1  Georgia     georgia     False\n",
      "2  Newyork     Newyork      True\n",
      "3  Indiana     Indiana      True\n",
      "4  Florida     florida     False\n"
     ]
    }
   ],
   "source": [
    "df1['is_equal']= (df1['State']==df1['State_1'])\n",
    "print(df1)"
   ]
  },
  {
   "cell_type": "code",
   "execution_count": 22,
   "metadata": {},
   "outputs": [],
   "source": [
    "question = \"Well, right now I'm upset. I felt like watching\"\n",
    "ques=pd.DataFrame([question],columns=['ques'])"
   ]
  },
  {
   "cell_type": "code",
   "execution_count": 23,
   "metadata": {},
   "outputs": [
    {
     "name": "stdout",
     "output_type": "stream",
     "text": [
      "(1, 1)\n",
      "Index(['ques'], dtype='object')\n"
     ]
    },
    {
     "data": {
      "text/html": [
       "<div>\n",
       "<style scoped>\n",
       "    .dataframe tbody tr th:only-of-type {\n",
       "        vertical-align: middle;\n",
       "    }\n",
       "\n",
       "    .dataframe tbody tr th {\n",
       "        vertical-align: top;\n",
       "    }\n",
       "\n",
       "    .dataframe thead th {\n",
       "        text-align: right;\n",
       "    }\n",
       "</style>\n",
       "<table border=\"1\" class=\"dataframe\">\n",
       "  <thead>\n",
       "    <tr style=\"text-align: right;\">\n",
       "      <th></th>\n",
       "      <th>ques</th>\n",
       "    </tr>\n",
       "  </thead>\n",
       "  <tbody>\n",
       "    <tr>\n",
       "      <th>0</th>\n",
       "      <td>Well, right now I'm upset. I felt like watching</td>\n",
       "    </tr>\n",
       "  </tbody>\n",
       "</table>\n",
       "</div>"
      ],
      "text/plain": [
       "                                              ques\n",
       "0  Well, right now I'm upset. I felt like watching"
      ]
     },
     "execution_count": 23,
     "metadata": {},
     "output_type": "execute_result"
    }
   ],
   "source": [
    "print(ques.shape)\n",
    "print(ques.columns)\n",
    "ques"
   ]
  },
  {
   "cell_type": "code",
   "execution_count": null,
   "metadata": {},
   "outputs": [],
   "source": [
    "question = input(\"Enter First String? \")\n",
    "ques=pd.DataFrame([question],columns=['ques'])"
   ]
  },
  {
   "cell_type": "code",
   "execution_count": null,
   "metadata": {},
   "outputs": [],
   "source": [
    "print(ques.shape)\n",
    "print(ques.columns)\n",
    "ques"
   ]
  },
  {
   "cell_type": "code",
   "execution_count": null,
   "metadata": {},
   "outputs": [],
   "source": [
    "dfnew=pd.DataFrame()\n",
    "dfnew1=pd.DataFrame()\n",
    "dfnew['is_equal']= (df1['State']==ques['ques'])\n",
    "dfnew1 = df1[df1['State']==ques['ques']]\n",
    "print(df1)\n",
    "print(dfnew)\n",
    "print(dfnew1)"
   ]
  },
  {
   "cell_type": "code",
   "execution_count": 3,
   "metadata": {},
   "outputs": [
    {
     "name": "stdout",
     "output_type": "stream",
     "text": [
      "   Product1  Price1\n",
      "0  Computer    1200\n",
      "1     Phone     800\n",
      "2   Printer     200\n",
      "3      Desk     350\n",
      "   Product2  Price2\n",
      "0  Computer     900\n",
      "1     Phone     800\n",
      "2   Printer     300\n",
      "3      Desk     350\n"
     ]
    }
   ],
   "source": [
    "import pandas as pd\n",
    "import numpy as np\n",
    "\n",
    "firstProductSet = {'Product1': ['Computer','Phone','Printer','Desk'],\n",
    "                   'Price1': [1200,800,200,350]\n",
    "                   }\n",
    "df1 = pd.DataFrame(firstProductSet,columns= ['Product1', 'Price1'])\n",
    "print(df1)\n",
    "\n",
    "secondProductSet = {'Product2': ['Computer','Phone','Printer','Desk'],\n",
    "                    'Price2': [900,800,300,350]\n",
    "                    }\n",
    "df2 = pd.DataFrame(secondProductSet,columns= ['Product2', 'Price2'])\n",
    "print (df2)"
   ]
  },
  {
   "cell_type": "code",
   "execution_count": 4,
   "metadata": {},
   "outputs": [
    {
     "ename": "NameError",
     "evalue": "name 'condition' is not defined",
     "output_type": "error",
     "traceback": [
      "\u001b[1;31m---------------------------------------------------------------------------\u001b[0m",
      "\u001b[1;31mNameError\u001b[0m                                 Traceback (most recent call last)",
      "\u001b[1;32m<ipython-input-4-2fd47d6db684>\u001b[0m in \u001b[0;36m<module>\u001b[1;34m\u001b[0m\n\u001b[1;32m----> 1\u001b[1;33m \u001b[0mdf1\u001b[0m\u001b[1;33m[\u001b[0m\u001b[1;34m'new column that will contain the comparison results'\u001b[0m\u001b[1;33m]\u001b[0m \u001b[1;33m=\u001b[0m \u001b[0mnp\u001b[0m\u001b[1;33m.\u001b[0m\u001b[0mwhere\u001b[0m\u001b[1;33m(\u001b[0m\u001b[0mcondition\u001b[0m\u001b[1;33m,\u001b[0m\u001b[1;34m'value if true'\u001b[0m\u001b[1;33m,\u001b[0m\u001b[1;34m'value if false'\u001b[0m\u001b[1;33m)\u001b[0m\u001b[1;33m\u001b[0m\u001b[1;33m\u001b[0m\u001b[0m\n\u001b[0m",
      "\u001b[1;31mNameError\u001b[0m: name 'condition' is not defined"
     ]
    }
   ],
   "source": [
    "df1['new column that will contain the comparison results'] = np.where(condition,'value if true','value if false')"
   ]
  },
  {
   "cell_type": "code",
   "execution_count": 5,
   "metadata": {},
   "outputs": [],
   "source": [
    "df1['pricesMatch?'] = np.where(df1['Price1'] == df2['Price2'], 'True', 'False')"
   ]
  },
  {
   "cell_type": "code",
   "execution_count": 6,
   "metadata": {},
   "outputs": [
    {
     "name": "stdout",
     "output_type": "stream",
     "text": [
      "   Product1  Price1 pricesMatch?\n",
      "0  Computer    1200        False\n",
      "1     Phone     800         True\n",
      "2   Printer     200        False\n",
      "3      Desk     350         True\n"
     ]
    }
   ],
   "source": [
    "print(df1)"
   ]
  },
  {
   "cell_type": "code",
   "execution_count": 7,
   "metadata": {},
   "outputs": [
    {
     "name": "stdout",
     "output_type": "stream",
     "text": [
      "   Product1  Price1  Price2 pricesMatch?  priceDiff?\n",
      "0  Computer    1200     900        False         300\n",
      "1     Phone     800     800         True           0\n",
      "2   Printer     200     300        False        -100\n",
      "3      Desk     350     350         True           0\n"
     ]
    }
   ],
   "source": [
    "import pandas as pd\n",
    "import numpy as np\n",
    "\n",
    "firstProductSet = {'Product1': ['Computer','Phone','Printer','Desk'],\n",
    "                   'Price1': [1200,800,200,350]\n",
    "                   }\n",
    "df1 = pd.DataFrame(firstProductSet,columns= ['Product1', 'Price1'])\n",
    "\n",
    "\n",
    "secondProductSet = {'Product2': ['Computer','Phone','Printer','Desk'],\n",
    "                    'Price2': [900,800,300,350]\n",
    "                    }\n",
    "df2 = pd.DataFrame(secondProductSet,columns= ['Product2', 'Price2'])\n",
    "\n",
    "\n",
    "df1['Price2'] = df2['Price2'] #add the Price2 column from df2 to df1\n",
    "\n",
    "df1['pricesMatch?'] = np.where(df1['Price1'] == df2['Price2'], 'True', 'False')  #create new column in df1 to check if prices match\n",
    "df1['priceDiff?'] = np.where(df1['Price1'] == df2['Price2'], 0, df1['Price1'] - df2['Price2']) #create new column in df1 for price diff \n",
    "print (df1)"
   ]
  },
  {
   "cell_type": "code",
   "execution_count": 8,
   "metadata": {},
   "outputs": [
    {
     "name": "stdout",
     "output_type": "stream",
     "text": [
      "Matches: False\n"
     ]
    }
   ],
   "source": [
    "df3 = df1.equals(df2)\n",
    "print('Matches:', df3)"
   ]
  },
  {
   "cell_type": "code",
   "execution_count": 9,
   "metadata": {},
   "outputs": [
    {
     "ename": "ValueError",
     "evalue": "Can only compare identically-labeled DataFrame objects",
     "output_type": "error",
     "traceback": [
      "\u001b[1;31m---------------------------------------------------------------------------\u001b[0m",
      "\u001b[1;31mValueError\u001b[0m                                Traceback (most recent call last)",
      "\u001b[1;32m<ipython-input-9-ced1996a0047>\u001b[0m in \u001b[0;36m<module>\u001b[1;34m\u001b[0m\n\u001b[1;32m----> 1\u001b[1;33m \u001b[0mdf3\u001b[0m \u001b[1;33m=\u001b[0m \u001b[1;33m(\u001b[0m\u001b[0mdf1\u001b[0m \u001b[1;33m!=\u001b[0m \u001b[0mdf2\u001b[0m\u001b[1;33m)\u001b[0m\u001b[1;33m.\u001b[0m\u001b[0many\u001b[0m\u001b[1;33m(\u001b[0m\u001b[0maxis\u001b[0m\u001b[1;33m=\u001b[0m\u001b[1;32mNone\u001b[0m\u001b[1;33m)\u001b[0m\u001b[1;33m\u001b[0m\u001b[1;33m\u001b[0m\u001b[0m\n\u001b[0m\u001b[0;32m      2\u001b[0m \u001b[0mprint\u001b[0m\u001b[1;33m(\u001b[0m\u001b[1;34m'Differences in file:'\u001b[0m\u001b[1;33m,\u001b[0m \u001b[0mdf3\u001b[0m\u001b[1;33m)\u001b[0m\u001b[1;33m\u001b[0m\u001b[1;33m\u001b[0m\u001b[0m\n\u001b[0;32m      3\u001b[0m \u001b[0mdf3\u001b[0m \u001b[1;33m=\u001b[0m \u001b[1;33m(\u001b[0m\u001b[0mdf1\u001b[0m \u001b[1;33m!=\u001b[0m \u001b[0mdf2\u001b[0m\u001b[1;33m)\u001b[0m\u001b[1;33m.\u001b[0m\u001b[0many\u001b[0m\u001b[1;33m(\u001b[0m\u001b[1;36m1\u001b[0m\u001b[1;33m)\u001b[0m\u001b[1;33m\u001b[0m\u001b[1;33m\u001b[0m\u001b[0m\n\u001b[0;32m      4\u001b[0m \u001b[0mne_stacked\u001b[0m \u001b[1;33m=\u001b[0m \u001b[1;33m(\u001b[0m\u001b[0mdf1\u001b[0m \u001b[1;33m!=\u001b[0m \u001b[0mdf2\u001b[0m\u001b[1;33m)\u001b[0m\u001b[1;33m.\u001b[0m\u001b[0mstack\u001b[0m\u001b[1;33m(\u001b[0m\u001b[1;33m)\u001b[0m\u001b[1;33m\u001b[0m\u001b[1;33m\u001b[0m\u001b[0m\n\u001b[0;32m      5\u001b[0m \u001b[0mchanged\u001b[0m \u001b[1;33m=\u001b[0m \u001b[0mne_stacked\u001b[0m\u001b[1;33m[\u001b[0m\u001b[0mne_stacked\u001b[0m\u001b[1;33m]\u001b[0m\u001b[1;33m\u001b[0m\u001b[1;33m\u001b[0m\u001b[0m\n",
      "\u001b[1;32mC:\\ProgramData\\Anaconda3\\lib\\site-packages\\pandas\\core\\ops\\__init__.py\u001b[0m in \u001b[0;36mf\u001b[1;34m(self, other)\u001b[0m\n\u001b[0;32m   1565\u001b[0m             \u001b[1;32mif\u001b[0m \u001b[1;32mnot\u001b[0m \u001b[0mself\u001b[0m\u001b[1;33m.\u001b[0m\u001b[0m_indexed_same\u001b[0m\u001b[1;33m(\u001b[0m\u001b[0mother\u001b[0m\u001b[1;33m)\u001b[0m\u001b[1;33m:\u001b[0m\u001b[1;33m\u001b[0m\u001b[1;33m\u001b[0m\u001b[0m\n\u001b[0;32m   1566\u001b[0m                 raise ValueError(\n\u001b[1;32m-> 1567\u001b[1;33m                     \u001b[1;34m\"Can only compare identically-labeled \"\u001b[0m \u001b[1;34m\"DataFrame objects\"\u001b[0m\u001b[1;33m\u001b[0m\u001b[1;33m\u001b[0m\u001b[0m\n\u001b[0m\u001b[0;32m   1568\u001b[0m                 )\n\u001b[0;32m   1569\u001b[0m             \u001b[1;32mreturn\u001b[0m \u001b[0mdispatch_to_series\u001b[0m\u001b[1;33m(\u001b[0m\u001b[0mself\u001b[0m\u001b[1;33m,\u001b[0m \u001b[0mother\u001b[0m\u001b[1;33m,\u001b[0m \u001b[0mfunc\u001b[0m\u001b[1;33m,\u001b[0m \u001b[0mstr_rep\u001b[0m\u001b[1;33m)\u001b[0m\u001b[1;33m\u001b[0m\u001b[1;33m\u001b[0m\u001b[0m\n",
      "\u001b[1;31mValueError\u001b[0m: Can only compare identically-labeled DataFrame objects"
     ]
    }
   ],
   "source": [
    "df3 = (df1 != df2).any(axis=None)\n",
    "print('Differences in file:', df3)\n",
    "df3 = (df1 != df2).any(1)\n",
    "ne_stacked = (df1 != df2).stack()\n",
    "changed = ne_stacked[ne_stacked]\n",
    "changed.index.names = ['id', 'col']\n",
    "print('Differences In:')\n",
    "print(changed)"
   ]
  },
  {
   "cell_type": "code",
   "execution_count": 10,
   "metadata": {},
   "outputs": [
    {
     "name": "stdout",
     "output_type": "stream",
     "text": [
      "Price1          False\n",
      "Price2           True\n",
      "Product1        False\n",
      "Product2        False\n",
      "priceDiff?      False\n",
      "pricesMatch?    False\n",
      "dtype: bool\n",
      "   Columns\n",
      "0    False\n",
      "1    False\n",
      "2    False\n",
      "3    False\n"
     ]
    }
   ],
   "source": [
    "df3 = df1.eq(df2)\n",
    "print(df3.all())\n",
    "#print(df3.all(axis=1))\n",
    "df4 = df3.all(axis=1)\n",
    "df4 = pd.DataFrame(df4, columns=['Columns'])\n",
    "print(df4[df4['Columns']==False])"
   ]
  },
  {
   "cell_type": "code",
   "execution_count": null,
   "metadata": {},
   "outputs": [],
   "source": []
  }
 ],
 "metadata": {
  "kernelspec": {
   "display_name": "Python 3",
   "language": "python",
   "name": "python3"
  },
  "language_info": {
   "codemirror_mode": {
    "name": "ipython",
    "version": 3
   },
   "file_extension": ".py",
   "mimetype": "text/x-python",
   "name": "python",
   "nbconvert_exporter": "python",
   "pygments_lexer": "ipython3",
   "version": "3.7.3"
  }
 },
 "nbformat": 4,
 "nbformat_minor": 2
}
